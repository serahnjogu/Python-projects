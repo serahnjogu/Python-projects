{
  "cells": [
    {
      "cell_type": "markdown",
      "metadata": {
        "id": "view-in-github",
        "colab_type": "text"
      },
      "source": [
        "<a href=\"https://colab.research.google.com/github/serahnjogu/Python-projects/blob/master/datacleaning_with_python.ipynb\" target=\"_parent\"><img src=\"https://colab.research.google.com/assets/colab-badge.svg\" alt=\"Open In Colab\"/></a>"
      ]
    },
    {
      "cell_type": "markdown",
      "metadata": {
        "id": "94qA2OFOpb3K"
      },
      "source": [
        "# Importing  libraries\n"
      ]
    },
    {
      "cell_type": "code",
      "execution_count": null,
      "metadata": {
        "id": "VQmtKbiepb3V"
      },
      "outputs": [],
      "source": [
        "!pip install pyjanitor statsmodels\n",
        "!pip install statsmodels"
      ]
    },
    {
      "cell_type": "code",
      "execution_count": null,
      "metadata": {
        "id": "D8MpLbk9pb3Z"
      },
      "outputs": [],
      "source": [
        "import pandas as pd\n",
        "import janitor\n",
        "import seaborn as sns\n",
        "import numpy as np\n",
        "import matplotlib.pyplot as plt\n",
        "from datetime import datetime,timedelta\n",
        "import statsmodels.api as sm\n"
      ]
    },
    {
      "cell_type": "markdown",
      "metadata": {
        "id": "M0sL5CR_pb3a"
      },
      "source": [
        "\n",
        "# importing data set"
      ]
    },
    {
      "cell_type": "code",
      "execution_count": null,
      "metadata": {
        "id": "FUA2g8z6pb3b",
        "outputId": "62893c30-37c9-4e73-e791-99aa4f830d47"
      },
      "outputs": [
        {
          "name": "stdout",
          "output_type": "stream",
          "text": [
            "   sale_id  sale_date  model_age  proximity_to_urban_centres  \\\n",
            "0        1   2013.650       38.6                  265.347718   \n",
            "1        2   2012.350       19.5                 4077.055125   \n",
            "2        3   2012.918       20.9                  937.831933   \n",
            "3        4   2013.000       16.9                  179.732757   \n",
            "4        5   2013.416       32.5                  190.054496   \n",
            "\n",
            "   number_of_dealerships_nearby  vechicle_sale_price  \n",
            "0                             6             41.98014  \n",
            "1                             1             29.02716  \n",
            "2                             5             58.83462  \n",
            "3                             3             51.65586  \n",
            "4                             7             66.32550  \n"
          ]
        },
        {
          "name": "stderr",
          "output_type": "stream",
          "text": [
            "c:\\Users\\Serah\\anaconda3\\Lib\\site-packages\\openpyxl\\packaging\\core.py:99: DeprecationWarning: datetime.datetime.utcnow() is deprecated and scheduled for removal in a future version. Use timezone-aware objects to represent datetimes in UTC: datetime.datetime.now(datetime.UTC).\n",
            "  now = datetime.datetime.utcnow()\n",
            "c:\\Users\\Serah\\anaconda3\\Lib\\site-packages\\openpyxl\\packaging\\core.py:99: DeprecationWarning: datetime.datetime.utcnow() is deprecated and scheduled for removal in a future version. Use timezone-aware objects to represent datetimes in UTC: datetime.datetime.now(datetime.UTC).\n",
            "  now = datetime.datetime.utcnow()\n"
          ]
        }
      ],
      "source": [
        "df= pd.read_excel(r\"C:\\Users\\Serah\\Downloads\\Data_CW2.xlsx\")\n",
        "df=df.clean_names()\n",
        "print (df.head())"
      ]
    },
    {
      "cell_type": "markdown",
      "metadata": {
        "id": "O9LglsRNpb3e"
      },
      "source": [
        "# data cleaning process"
      ]
    },
    {
      "cell_type": "code",
      "execution_count": null,
      "metadata": {
        "id": "KC3jYiEqpb3f"
      },
      "outputs": [],
      "source": [
        "def decimal_year_date(decimal_year):\n",
        "    year = int(decimal_year)\n",
        "    start = datetime(year, 1, 1)\n",
        "    end= datetime(year+1, 1, 1)\n",
        "    days_in_year = (end - start).days\n",
        "    frac = decimal_year - year\n",
        "    return start +timedelta(days=int(frac*days_in_year))\n",
        "\n",
        "df[\"sale_date\"] = df[\"sale_date\"].apply(decimal_year_date)\n"
      ]
    },
    {
      "cell_type": "code",
      "execution_count": null,
      "metadata": {
        "id": "Q99iaWPipb3g",
        "outputId": "7ef59e14-e864-4610-87f9-1e49411fa9b4"
      },
      "outputs": [
        {
          "data": {
            "text/html": [
              "<div>\n",
              "<style scoped>\n",
              "    .dataframe tbody tr th:only-of-type {\n",
              "        vertical-align: middle;\n",
              "    }\n",
              "\n",
              "    .dataframe tbody tr th {\n",
              "        vertical-align: top;\n",
              "    }\n",
              "\n",
              "    .dataframe thead th {\n",
              "        text-align: right;\n",
              "    }\n",
              "</style>\n",
              "<table border=\"1\" class=\"dataframe\">\n",
              "  <thead>\n",
              "    <tr style=\"text-align: right;\">\n",
              "      <th></th>\n",
              "      <th>sale_id</th>\n",
              "      <th>sale_date</th>\n",
              "      <th>model_age</th>\n",
              "      <th>proximity_to_urban_centres</th>\n",
              "      <th>number_of_dealerships_nearby</th>\n",
              "      <th>vechicle_sale_price</th>\n",
              "    </tr>\n",
              "  </thead>\n",
              "  <tbody>\n",
              "    <tr>\n",
              "      <th>0</th>\n",
              "      <td>1</td>\n",
              "      <td>2013-08-26</td>\n",
              "      <td>38.6</td>\n",
              "      <td>265.347718</td>\n",
              "      <td>6</td>\n",
              "      <td>41.98014</td>\n",
              "    </tr>\n",
              "    <tr>\n",
              "      <th>1</th>\n",
              "      <td>2</td>\n",
              "      <td>2012-05-08</td>\n",
              "      <td>19.5</td>\n",
              "      <td>4077.055125</td>\n",
              "      <td>1</td>\n",
              "      <td>29.02716</td>\n",
              "    </tr>\n",
              "    <tr>\n",
              "      <th>2</th>\n",
              "      <td>3</td>\n",
              "      <td>2012-12-01</td>\n",
              "      <td>20.9</td>\n",
              "      <td>937.831933</td>\n",
              "      <td>5</td>\n",
              "      <td>58.83462</td>\n",
              "    </tr>\n",
              "    <tr>\n",
              "      <th>3</th>\n",
              "      <td>4</td>\n",
              "      <td>2013-01-01</td>\n",
              "      <td>16.9</td>\n",
              "      <td>179.732757</td>\n",
              "      <td>3</td>\n",
              "      <td>51.65586</td>\n",
              "    </tr>\n",
              "    <tr>\n",
              "      <th>4</th>\n",
              "      <td>5</td>\n",
              "      <td>2013-06-01</td>\n",
              "      <td>32.5</td>\n",
              "      <td>190.054496</td>\n",
              "      <td>7</td>\n",
              "      <td>66.32550</td>\n",
              "    </tr>\n",
              "    <tr>\n",
              "      <th>...</th>\n",
              "      <td>...</td>\n",
              "      <td>...</td>\n",
              "      <td>...</td>\n",
              "      <td>...</td>\n",
              "      <td>...</td>\n",
              "      <td>...</td>\n",
              "    </tr>\n",
              "    <tr>\n",
              "      <th>434</th>\n",
              "      <td>435</td>\n",
              "      <td>2013-01-01</td>\n",
              "      <td>17.7</td>\n",
              "      <td>3964.985322</td>\n",
              "      <td>1</td>\n",
              "      <td>24.03324</td>\n",
              "    </tr>\n",
              "    <tr>\n",
              "      <th>435</th>\n",
              "      <td>436</td>\n",
              "      <td>2012-09-01</td>\n",
              "      <td>9.6</td>\n",
              "      <td>86.395962</td>\n",
              "      <td>10</td>\n",
              "      <td>78.03000</td>\n",
              "    </tr>\n",
              "    <tr>\n",
              "      <th>436</th>\n",
              "      <td>437</td>\n",
              "      <td>2013-04-02</td>\n",
              "      <td>22.8</td>\n",
              "      <td>378.404331</td>\n",
              "      <td>8</td>\n",
              "      <td>63.36036</td>\n",
              "    </tr>\n",
              "    <tr>\n",
              "      <th>437</th>\n",
              "      <td>438</td>\n",
              "      <td>2013-01-01</td>\n",
              "      <td>12.1</td>\n",
              "      <td>100.343752</td>\n",
              "      <td>6</td>\n",
              "      <td>81.93150</td>\n",
              "    </tr>\n",
              "    <tr>\n",
              "      <th>438</th>\n",
              "      <td>439</td>\n",
              "      <td>2013-07-02</td>\n",
              "      <td>10.5</td>\n",
              "      <td>86.395962</td>\n",
              "      <td>10</td>\n",
              "      <td>99.72234</td>\n",
              "    </tr>\n",
              "  </tbody>\n",
              "</table>\n",
              "<p>439 rows × 6 columns</p>\n",
              "</div>"
            ],
            "text/plain": [
              "     sale_id  sale_date  model_age  proximity_to_urban_centres  \\\n",
              "0          1 2013-08-26       38.6                  265.347718   \n",
              "1          2 2012-05-08       19.5                 4077.055125   \n",
              "2          3 2012-12-01       20.9                  937.831933   \n",
              "3          4 2013-01-01       16.9                  179.732757   \n",
              "4          5 2013-06-01       32.5                  190.054496   \n",
              "..       ...        ...        ...                         ...   \n",
              "434      435 2013-01-01       17.7                 3964.985322   \n",
              "435      436 2012-09-01        9.6                   86.395962   \n",
              "436      437 2013-04-02       22.8                  378.404331   \n",
              "437      438 2013-01-01       12.1                  100.343752   \n",
              "438      439 2013-07-02       10.5                   86.395962   \n",
              "\n",
              "     number_of_dealerships_nearby  vechicle_sale_price  \n",
              "0                               6             41.98014  \n",
              "1                               1             29.02716  \n",
              "2                               5             58.83462  \n",
              "3                               3             51.65586  \n",
              "4                               7             66.32550  \n",
              "..                            ...                  ...  \n",
              "434                             1             24.03324  \n",
              "435                            10             78.03000  \n",
              "436                             8             63.36036  \n",
              "437                             6             81.93150  \n",
              "438                            10             99.72234  \n",
              "\n",
              "[439 rows x 6 columns]"
            ]
          },
          "execution_count": 25,
          "metadata": {},
          "output_type": "execute_result"
        }
      ],
      "source": [
        "df"
      ]
    },
    {
      "cell_type": "markdown",
      "metadata": {
        "id": "5Q9PaoQxpb3h"
      },
      "source": [
        "# missing variables\n"
      ]
    },
    {
      "cell_type": "code",
      "execution_count": null,
      "metadata": {
        "id": "6LQYrKhhpb3i",
        "outputId": "39c6ba3f-8cd4-4bd5-82a5-9f494a7c014a"
      },
      "outputs": [
        {
          "data": {
            "text/plain": [
              "sale_id                         0\n",
              "sale_date                       0\n",
              "model_age                       0\n",
              "proximity_to_urban_centres      0\n",
              "number_of_dealerships_nearby    0\n",
              "vechicle_sale_price             0\n",
              "dtype: int64"
            ]
          },
          "execution_count": 26,
          "metadata": {},
          "output_type": "execute_result"
        }
      ],
      "source": [
        "df.isnull().sum()"
      ]
    },
    {
      "cell_type": "code",
      "execution_count": null,
      "metadata": {
        "id": "abTZipMppb3j"
      },
      "outputs": [],
      "source": [
        "df['sale_date_numeric'] = (df['sale_date'] - pd.Timestamp(\"2000-01-01\")).dt.days"
      ]
    },
    {
      "cell_type": "code",
      "execution_count": null,
      "metadata": {
        "id": "cuwLbguPpb3j"
      },
      "outputs": [],
      "source": [
        "X = df[['sale_date_numeric', 'model_age', 'proximity_to_urban_centres', 'number_of_dealerships_nearby']]\n",
        "Y = df['vechicle_sale_price']\n",
        "X = sm.add_constant(X)\n"
      ]
    },
    {
      "cell_type": "markdown",
      "metadata": {
        "id": "xpxUx-Yppb3l"
      },
      "source": [
        "# Linear Regression Model"
      ]
    },
    {
      "cell_type": "code",
      "execution_count": null,
      "metadata": {
        "id": "2ZMmlYhHpb3l",
        "outputId": "ff8c9c64-4ce0-499f-fccd-099b3e969103"
      },
      "outputs": [
        {
          "name": "stdout",
          "output_type": "stream",
          "text": [
            "                             OLS Regression Results                            \n",
            "===============================================================================\n",
            "Dep. Variable:     vechicle_sale_price   R-squared:                       0.558\n",
            "Model:                             OLS   Adj. R-squared:                  0.554\n",
            "Method:                  Least Squares   F-statistic:                     137.1\n",
            "Date:                 Sun, 18 May 2025   Prob (F-statistic):           1.30e-75\n",
            "Time:                         22:20:10   Log-Likelihood:                -1782.0\n",
            "No. Observations:                  439   AIC:                             3574.\n",
            "Df Residuals:                      434   BIC:                             3595.\n",
            "Df Model:                            4                                         \n",
            "Covariance Type:             nonrobust                                         \n",
            "================================================================================================\n",
            "                                   coef    std err          t      P>|t|      [0.025      0.975]\n",
            "------------------------------------------------------------------------------------------------\n",
            "const                          -49.9112     31.104     -1.605      0.109    -111.044      11.221\n",
            "sale_date_numeric                0.0244      0.006      3.755      0.000       0.012       0.037\n",
            "model_age                       -0.4122      0.059     -6.979      0.000      -0.528      -0.296\n",
            "proximity_to_urban_centres      -0.0087      0.001    -12.585      0.000      -0.010      -0.007\n",
            "number_of_dealerships_nearby     1.9834      0.289      6.863      0.000       1.415       2.551\n",
            "==============================================================================\n",
            "Omnibus:                      221.971   Durbin-Watson:                   2.110\n",
            "Prob(Omnibus):                  0.000   Jarque-Bera (JB):             3082.757\n",
            "Skew:                           1.814   Prob(JB):                         0.00\n",
            "Kurtosis:                      15.465   Cond. No.                     2.28e+05\n",
            "==============================================================================\n",
            "\n",
            "Notes:\n",
            "[1] Standard Errors assume that the covariance matrix of the errors is correctly specified.\n",
            "[2] The condition number is large, 2.28e+05. This might indicate that there are\n",
            "strong multicollinearity or other numerical problems.\n"
          ]
        }
      ],
      "source": [
        "\n",
        "model = sm.OLS(Y, X).fit()\n",
        "print(model.summary())\n"
      ]
    },
    {
      "cell_type": "markdown",
      "metadata": {
        "id": "MYAqqfeDpb3m"
      },
      "source": [
        "\n",
        "\n",
        "## **1. Linear Regression Equation**\n",
        "\n",
        "The general form of a multiple linear regression model is:\n",
        "\n",
        "$$\n",
        "\\hat{Y} = \\beta_0 + \\beta_1 X_1 + \\beta_2 X_2 + \\beta_3 X_3 + \\beta_4 X_4\n",
        "$$\n",
        "\n",
        "Where:\n",
        "\n",
        "* $\\hat{Y}$: Predicted Vehicle Value\n",
        "* $\\beta_0$: Intercept (constant)\n",
        "* $\\beta_1$: Coefficient for Sale Date Numeric\n",
        "* $\\beta_2$: Coefficient for Model Age\n",
        "* $\\beta_3$: Coefficient for Proximity to Urban Centres\n",
        "* $\\beta_4$: Coefficient for Number of Dealerships Nearby\n",
        "\n",
        "### Based on your results:\n",
        "\n",
        "$$\n",
        "\\hat{Y} = -49.9112 + 0.0244 \\times \\text{SaleDateNumeric} - 0.4122 \\times \\text{ModelAge} - 0.0087 \\times \\text{ProximityToUrbanCentres} + 1.9834 \\times \\text{NumberOfDealershipsNearby}\n",
        "$$\n",
        "\n",
        "---\n",
        "\n",
        "## **2. Interpretation of Coefficients**\n",
        "\n",
        "| Variable                         | Coefficient | Interpretation                                                                                                                                                            |\n",
        "| -------------------------------- | ----------- | ------------------------------------------------------------------------------------------------------------------------------------------------------------------------- |\n",
        "| **Intercept (-49.9112)**         | -49.9112    | When all variables are zero, the baseline predicted vehicle value would be -49.9112 (theoretically, but often not meaningful practically if zero values are unrealistic). |\n",
        "| **Sale Date Numeric (0.0244)**   | 0.0244      | For each unit increase in sale date (e.g., moving towards a more recent date), the vehicle value increases by **0.0244 units**, holding other factors constant.           |\n",
        "| **Model Age (-0.4122)**          | -0.4122     | For each additional year of vehicle age, the value decreases by **0.4122 units**, holding other factors constant. Older cars are worth less.                              |\n",
        "| **Proximity to Urban (-0.0087)** | -0.0087     | For each unit increase in distance from urban centers, vehicle value decreases by **0.0087 units**. Farther cars are less valuable.                                       |\n",
        "| **Dealerships Nearby (1.9834)**  | 1.9834      | For each additional dealership nearby, vehicle value increases by **1.9834 units**, holding other factors constant. More dealerships drive up competition and demand.     |\n",
        "\n",
        "---\n",
        "\n",
        "## **3. Statistical Significance (p-values)**\n",
        "\n",
        "* **Sale Date, Model Age, Proximity, Dealerships**: p-values < 0.05 → Statistically significant.\n",
        "* **Intercept (p = 0.109)**: Not statistically significant.\n",
        "\n",
        "---\n",
        "\n",
        "## **4. Insights for Your Client**\n",
        "\n",
        "* **Vehicle Age** and **Proximity to Urban Centers** have **negative effects** on vehicle price.\n",
        "* **Sale Date (newer cars)** and **Dealerships Nearby** have **positive effects** on vehicle price.\n",
        "* All factors except the intercept are statistically significant at the 5% level.\n",
        "* Focus on dealership networks and urban proximity for strategic pricing.\n",
        "\n",
        "---\n",
        "\n",
        "### Final Summary for Client:\n",
        "\n",
        "The linear regression model shows that newer models, vehicles closer to urban centers, and areas with more dealerships tend to have higher market values. Age significantly reduces value, while strategic dealership placement positively influences price. The model's predictors are statistically significant, providing reliable insights for your pricing strategies.\n"
      ]
    },
    {
      "cell_type": "markdown",
      "metadata": {
        "id": "W60UGI1fpb3n"
      },
      "source": [
        "Your group manager questions whether the model may suffer from\n",
        "potential heteroskedasticity and multicollinearity issues, but you do not agree. (a)\n",
        "please briefly explain the concepts of heteroskedasticity and multicollinearity; (b) and\n",
        "show evidence on why your results in Question 1 do not suffer from such issues; (c)\n",
        "what are possible methods to address the issues of heteroskedasticity and\n",
        "multicollinearity? (12 marks)"
      ]
    },
    {
      "cell_type": "code",
      "execution_count": null,
      "metadata": {
        "id": "kkE0tU9wpb3o",
        "outputId": "e76dcbeb-c9ee-43e9-dbed-a5c4f85ba217"
      },
      "outputs": [
        {
          "data": {
            "image/png": "[encoded data removed]",
            "text/plain": [
              "<Figure size 800x500 with 1 Axes>"
            ]
          },
          "metadata": {},
          "output_type": "display_data"
        }
      ],
      "source": [
        "# Extract fitted values and residuals from model\n",
        "fitted_values = model.fittedvalues\n",
        "residuals = model.resid\n",
        "\n",
        "# Plot residuals vs fitted values\n",
        "plt.figure(figsize=(8,5))\n",
        "sns.scatterplot(x=fitted_values, y=residuals)\n",
        "plt.axhline(0, color='yellow', linestyle='-')  # horizontal zero line\n",
        "\n",
        "plt.xlabel('Fitted Values (Predicted Vehicle Value)')\n",
        "plt.ylabel('Residuals')\n",
        "plt.title('Residual Plot for Homoskedasticity Check')\n",
        "plt.show()"
      ]
    },
    {
      "cell_type": "code",
      "execution_count": null,
      "metadata": {
        "id": "3m_Hxormpb3p",
        "outputId": "dc84b629-a4b1-495e-9b04-a70e69c480b3"
      },
      "outputs": [
        {
          "name": "stdout",
          "output_type": "stream",
          "text": [
            "                        Feature          VIF\n",
            "0                         const  2136.495410\n",
            "1             sale_date_numeric     1.004112\n",
            "2                     model_age     1.006417\n",
            "3    proximity_to_urban_centres     1.586210\n",
            "4  number_of_dealerships_nearby     1.587913\n"
          ]
        }
      ],
      "source": [
        "from statsmodels.stats.outliers_influence import variance_inflation_factor\n",
        "import pandas as pd\n",
        "\n",
        "# VIF Calculation\n",
        "vif_data = pd.DataFrame()\n",
        "vif_data[\"Feature\"] = X.columns\n",
        "vif_data[\"VIF\"] = [variance_inflation_factor(X.values, i) for i in range(X.shape[1])]\n",
        "print(vif_data)"
      ]
    },
    {
      "cell_type": "markdown",
      "metadata": {
        "id": "wAwPHtndpb3p"
      },
      "source": [
        "One of your colleagues suggests using a nonlinear model instead of a\n",
        "linear model. Please analyse the data and evaluate whether a nonlinear model is a\n",
        "better choice. (5 marks)"
      ]
    },
    {
      "cell_type": "code",
      "execution_count": null,
      "metadata": {
        "id": "78_Ew6aCpb3q",
        "outputId": "363bf59b-3e34-4311-9078-90bde6d87969"
      },
      "outputs": [
        {
          "name": "stdout",
          "output_type": "stream",
          "text": [
            "Linear Regression     -> R²: 0.6043, RMSE: 11.58\n",
            "Polynomial Regression -> R²: 0.6748, RMSE: 10.49\n",
            "Decision Tree         -> R²: 0.5291, RMSE: 12.63\n"
          ]
        }
      ],
      "source": [
        "from sklearn.preprocessing import PolynomialFeatures\n",
        "from sklearn.linear_model import LinearRegression\n",
        "from sklearn.tree import DecisionTreeRegressor\n",
        "from sklearn.ensemble import RandomForestRegressor, GradientBoostingRegressor\n",
        "from sklearn.metrics import mean_squared_error, r2_score\n",
        "from sklearn.model_selection import train_test_split\n",
        "import numpy as np\n",
        "\n",
        "# Define X and y\n",
        "X = df[['sale_date_numeric', 'model_age', 'proximity_to_urban_centres', 'number_of_dealerships_nearby']]\n",
        "y = df['vechicle_sale_price']\n",
        "\n",
        "# Train-test split\n",
        "X_train, X_test, y_train, y_test = train_test_split(X, y, test_size=0.2, random_state=42)\n",
        "\n",
        "# ----------------------------\n",
        "# 1. Linear Regression (Baseline)\n",
        "linear_model = LinearRegression().fit(X_train, y_train)\n",
        "y_pred_linear = linear_model.predict(X_test)\n",
        "r2_linear = r2_score(y_test, y_pred_linear)\n",
        "rmse_linear = np.sqrt(mean_squared_error(y_test, y_pred_linear))\n",
        "\n",
        "# ----------------------------\n",
        "# 2. Polynomial Regression (degree=2)\n",
        "poly = PolynomialFeatures(degree=2, include_bias=False)\n",
        "X_train_poly = poly.fit_transform(X_train)\n",
        "X_test_poly = poly.transform(X_test)\n",
        "\n",
        "poly_model = LinearRegression().fit(X_train_poly, y_train)\n",
        "y_pred_poly = poly_model.predict(X_test_poly)\n",
        "r2_poly = r2_score(y_test, y_pred_poly)\n",
        "rmse_poly = np.sqrt(mean_squared_error(y_test, y_pred_poly))\n",
        "\n",
        "# ----------------------------\n",
        "# 3. Decision Tree Regressor\n",
        "tree_model = DecisionTreeRegressor(random_state=42).fit(X_train, y_train)\n",
        "y_pred_tree = tree_model.predict(X_test)\n",
        "r2_tree = r2_score(y_test, y_pred_tree)\n",
        "rmse_tree = np.sqrt(mean_squared_error(y_test, y_pred_tree))\n",
        "\n",
        "# ----------------------------\n",
        "# 4. Random Forest Regressor\n",
        "rf_model = RandomForestRegressor(random_state=42).fit(X_train, y_train)\n",
        "y_pred_rf = rf_model.predict(X_test)\n",
        "r2_rf = r2_score(y_test, y_pred_rf)\n",
        "rmse_rf = np.sqrt(mean_squared_error(y_test, y_pred_rf))\n",
        "# 5. Gradient Boosting Regressor\n",
        "gb_model = GradientBoostingRegressor(random_state=42).fit(X_train, y_train)\n",
        "y_pred_gb = gb_model.predict(X_test)\n",
        "r2_gb = r2_score(y_test, y_pred_gb)\n",
        "rmse_gb = np.sqrt(mean_squared_error(y_test, y_pred_gb))\n",
        "print(f\"Linear Regression     -> R²: {r2_linear:.4f}, RMSE: {rmse_linear:.2f}\")\n",
        "print(f\"Polynomial Regression -> R²: {r2_poly:.4f}, RMSE: {rmse_poly:.2f}\")\n",
        "print(f\"Decision Tree         -> R²: {r2_tree:.4f}, RMSE: {rmse_tree:.2f}\")"
      ]
    }
  ],
  "metadata": {
    "kernelspec": {
      "display_name": "base",
      "language": "python",
      "name": "python3"
    },
    "language_info": {
      "codemirror_mode": {
        "name": "ipython",
        "version": 3
      },
      "file_extension": ".py",
      "mimetype": "text/x-python",
      "name": "python",
      "nbconvert_exporter": "python",
      "pygments_lexer": "ipython3",
      "version": "3.12.4"
    },
    "colab": {
      "provenance": [],
      "include_colab_link": true
    }
  },
  "nbformat": 4,
  "nbformat_minor": 0
}