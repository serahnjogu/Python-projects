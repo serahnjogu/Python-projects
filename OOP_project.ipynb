{
  "nbformat": 4,
  "nbformat_minor": 0,
  "metadata": {
    "colab": {
      "provenance": [],
      "authorship_tag": "ABX9TyPY2H6bjn5IT/TW5kHgzxQj",
      "include_colab_link": true
    },
    "kernelspec": {
      "name": "python3",
      "display_name": "Python 3"
    },
    "language_info": {
      "name": "python"
    }
  },
  "cells": [
    {
      "cell_type": "markdown",
      "metadata": {
        "id": "view-in-github",
        "colab_type": "text"
      },
      "source": [
        "<a href=\"https://colab.research.google.com/github/serahnjogu/Python-projects/blob/master/OOP_project.ipynb\" target=\"_parent\"><img src=\"https://colab.research.google.com/assets/colab-badge.svg\" alt=\"Open In Colab\"/></a>"
      ]
    },
    {
      "cell_type": "markdown",
      "source": [
        "# OOP PROJECT\n",
        "Study Group Name: Study Group 1\n",
        "\n",
        "Project Name: Forestry Growth Simulation using OOP\n",
        "\n",
        "Project Question: “How can Object-Oriented Programming be used to model and manage different tree species in a forest ecosystem?”\n"
      ],
      "metadata": {
        "id": "ApK4Qa7Q2eqs"
      }
    },
    {
      "cell_type": "code",
      "source": [
        "class Tree:\n",
        "    def __init__(self, species, height, age):\n",
        "        # Constructor method to initialise the tree's attributes\n",
        "        self.species = species  # The species of the tree\n",
        "        self.height = height    # The height of the tree in meters\n",
        "        self.age = age          # The age of the tree in years\n",
        "\n",
        "    def describe(self):\n",
        "        # Method to describe the tree\n",
        "        return f\"A {self.age}-year-old {self.species} tree, about {self.height} meters tall.\"\n"
      ],
      "metadata": {
        "id": "tGVuUnN2UEpg"
      },
      "execution_count": 9,
      "outputs": []
    },
    {
      "cell_type": "markdown",
      "source": [
        "ENCAPSULATION\n",
        "\n"
      ],
      "metadata": {
        "id": "HJGbiaePYzKE"
      }
    },
    {
      "cell_type": "code",
      "source": [
        "# Creating another tree object\n",
        "Cedar = Tree(\"Cedar\", 25, 60)\n",
        "print(Cedar.describe())\n",
        "\n",
        "# Attempting to access attributes directly\n",
        "print(f\"Species of the tree: {Cedar.species}\")\n",
        "print(f\"Height of the tree: {Cedar.height}\")"
      ],
      "metadata": {
        "colab": {
          "base_uri": "https://localhost:8080/"
        },
        "id": "0CjOd1nvZB5t",
        "outputId": "1515fef7-56e0-4cc5-9ecb-89ebddbb04ef"
      },
      "execution_count": 12,
      "outputs": [
        {
          "output_type": "stream",
          "name": "stdout",
          "text": [
            "A 60-year-old Cedar tree, about 25 meters tall.\n",
            "Species of the tree: Cedar\n",
            "Height of the tree: 25\n"
          ]
        }
      ]
    },
    {
      "cell_type": "markdown",
      "source": [
        "INHERITANCE"
      ],
      "metadata": {
        "id": "UCnXDe8NZUbu"
      }
    },
    {
      "cell_type": "code",
      "source": [
        "# Tree class, our base/parent class\n",
        "class Tree:\n",
        "    def __init__(self, species, age, height):\n",
        "        self.species = species\n",
        "        self.age = age\n",
        "        self.height = height\n",
        "\n",
        "    def grow(self):\n",
        "        self.height += 1  # Simplified growth logic\n",
        "\n",
        "    def reseed(self):\n",
        "        print(f\"The {self.species} tree disperses seeds for new trees.\")\n",
        "\n",
        "\n",
        "# Elm and Cedar subclasses, our derived/child classes\n",
        "class Elm(Tree):\n",
        "    def budding(self):\n",
        "        print(f\"The {self.species} tree is budding new leaves.\")\n",
        "\n",
        "class Cedar(Tree):\n",
        "    def cone_count(self):\n",
        "        print(f\"The {self.species} tree has many cones.\")\n",
        "\n",
        "# Creating objects of the subclasses\n",
        "Elm_tree = Elm(\"Oak\", 45, 18)\n",
        "Cedar_tree = Cedar(\"Pine\", 60, 25)"
      ],
      "metadata": {
        "id": "X0zsBMY7ZXlP"
      },
      "execution_count": 6,
      "outputs": []
    },
    {
      "cell_type": "markdown",
      "source": [
        "POLYMORPHISM\n"
      ],
      "metadata": {
        "id": "hR7ks-_yZ1P1"
      }
    },
    {
      "cell_type": "code",
      "source": [
        "class Tree:\n",
        "    def __init__(self, species, age, height):\n",
        "        self.species = species\n",
        "        self.age = age\n",
        "        self.height = height\n",
        "\n",
        "    def grow(self):\n",
        "        # Simulate the tree growing taller\n",
        "        self.height += 1\n",
        "        print(f\"Polymorphism in action: A {self.species} tree grows, increasing its height to {self.height} meters.\")\n",
        "\n",
        "    def reseed(self):\n",
        "        # Simulate the tree dispersing seeds\n",
        "        print(f\"Polymorphism in action: A {self.species} tree disperses seeds to propagate its species.\")\n",
        "\n",
        "class Elm(Tree):\n",
        "    def budding(self):\n",
        "        # Simulate an Elm-specific behaviour\n",
        "        print(f\"Unique to Elm: As the season changes, the Elm tree produces serrated leaves and forms new buds along its branches.\")\n",
        "\n",
        "class Cedar(Tree):\n",
        "    def cone_count(self):\n",
        "        # Simulate a Cedar-specific behaviour\n",
        "        print(f\"Unique to Cedar: The Cedar tree, apart from growing and reseeding, also forms upright cones that mature over two years as part of its unique growth cycle..\")\n",
        "\n",
        "# Creating objects of each subclass\n",
        "Elm_tree = Elm(\"Elm\", 10, 5)\n",
        "Cedar_tree = Cedar(\"Cedar\", 7, 8)\n",
        "\n",
        "# Demonstrating polymorphism with more explanatory print statements\n",
        "for tree in (Elm_tree, Cedar_tree):\n",
        "    tree.grow()    # Both Elm and Cedar respond to the grow method\n",
        "    tree.reseed()  # Both Elm and Cedar respond to the reseed method\n",
        "    if isinstance(tree, Elm):\n",
        "        tree.budding()  # Only Elm responds to the budding method\n",
        "    elif isinstance(tree, Cedar):\n",
        "        tree.cone_count()  # Only Cedar responds to the cone_count method\n"
      ],
      "metadata": {
        "colab": {
          "base_uri": "https://localhost:8080/"
        },
        "id": "SOCEPsZ5aIkG",
        "outputId": "abc20b09-e151-43dc-8119-f40eaa9412d5"
      },
      "execution_count": 14,
      "outputs": [
        {
          "output_type": "stream",
          "name": "stdout",
          "text": [
            "Polymorphism in action: A Elm tree grows, increasing its height to 6 meters.\n",
            "Polymorphism in action: A Elm tree disperses seeds to propagate its species.\n",
            "Unique to Elm: As the season changes, the Elm tree produces serrated leaves and forms new buds along its branches.\n",
            "Polymorphism in action: A Cedar tree grows, increasing its height to 9 meters.\n",
            "Polymorphism in action: A Cedar tree disperses seeds to propagate its species.\n",
            "Unique to Cedar: The Cedar tree, apart from growing and reseeding, also forms upright cones that mature over two years as part of its unique growth cycle..\n"
          ]
        }
      ]
    },
    {
      "cell_type": "markdown",
      "source": [
        "ABSTRACTION"
      ],
      "metadata": {
        "id": "c-wEnZl4aXKQ"
      }
    },
    {
      "cell_type": "code",
      "source": [
        "class Tree:\n",
        "    def __init__(self, species, height, age):\n",
        "        self.species = species\n",
        "        self.height = height\n",
        "        self.age = age\n",
        "\n",
        "    def grow(self):\n",
        "        # Abstract method, details will be defined in the subclass\n",
        "        pass # In Python, the pass statement is used as a placeholder for future code.\n",
        "\n",
        "class EvergreenTree(Tree):\n",
        "    def __init__(self, species, height, age, needle_type):\n",
        "        super().__init__(species, height, age)\n",
        "        self.needle_type = needle_type\n",
        "\n",
        "    def grow(self):\n",
        "        # Implementing the specific way an Evergreen tree grows\n",
        "        self.height += 1\n",
        "        print(f\"The evergreen tree grows taller by one meter, now standing at {self.height} meters.\")\n",
        "\n",
        "# Use the abstraction\n",
        "my_tree = EvergreenTree(\"Spruce\", 5, 20, \"short needles\")\n",
        "my_tree.grow()  # The user doesn't need to know how the tree grows, just that it does"
      ],
      "metadata": {
        "colab": {
          "base_uri": "https://localhost:8080/"
        },
        "id": "ticQdO71aY8o",
        "outputId": "801f8c49-10a8-4db2-8469-ee34c127199b"
      },
      "execution_count": 7,
      "outputs": [
        {
          "output_type": "stream",
          "name": "stdout",
          "text": [
            "The evergreen tree grows taller by one meter, now standing at 6 meters.\n"
          ]
        }
      ]
    }
  ]
}